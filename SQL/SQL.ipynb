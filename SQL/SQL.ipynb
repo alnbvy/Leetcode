{
 "cells": [
  {
   "cell_type": "code",
   "execution_count": null,
   "id": "fb569b6e",
   "metadata": {},
   "outputs": [],
   "source": [
    "select name from customer\n",
    "where referee_id != 2 or referee_id is null"
   ]
  },
  {
   "cell_type": "code",
   "execution_count": null,
   "id": "0a1dd988",
   "metadata": {},
   "outputs": [],
   "source": [
    "# 183. Customers Who Never Order\n",
    "select c.name as Customers from customers c\n",
    "where c.id NOT in (select customerId from orders)\n",
    "\n",
    "-- second method\n",
    "\n",
    "select c.name as Customers from customers c\n",
    "left join orders o on o.customerid = c.id\n",
    "where o.id is null"
   ]
  },
  {
   "cell_type": "code",
   "execution_count": null,
   "id": "4819b956",
   "metadata": {},
   "outputs": [],
   "source": [
    "# 1873. Calculate Special Bonus\n",
    "SELECT employee_id,\n",
    "CASE\n",
    "    WHEN employee_id%2 = 1 and name not like 'M%' THEN salary\n",
    "    ELSE 0\n",
    "END AS bonus\n",
    "FROM Employees;\n",
    "\n",
    "select employee_id ,if(employee_id % 2 =1 and name not like 'M%',salary ,0 ) as bonus \n",
    "from Employees order by employee_id ;"
   ]
  },
  {
   "cell_type": "code",
   "execution_count": null,
   "id": "f5bc3eff",
   "metadata": {},
   "outputs": [],
   "source": [
    "# 627. Swap Salary\n",
    "update salary\n",
    "SET sex = case \n",
    "                when sex = 'm' then 'f'\n",
    "                else 'm'\n",
    "                END"
   ]
  },
  {
   "cell_type": "code",
   "execution_count": null,
   "id": "9750c8f1",
   "metadata": {},
   "outputs": [],
   "source": [
    "# 196. Delete Duplicate Emails\n",
    "DELETE p2 FROM Person p1,\n",
    "    Person p2\n",
    "WHERE\n",
    "    p1.Email = p2.Email AND p2.Id > p1.Id"
   ]
  },
  {
   "cell_type": "code",
   "execution_count": null,
   "id": "45ce4da0",
   "metadata": {},
   "outputs": [],
   "source": [
    "#1667. Fix Names in a Table\n",
    "select user_id, concat(upper(LEFT(name, 1)) , lower(SUBSTRING(name, 2,2000))) as name  from users\n",
    "order by user_id"
   ]
  },
  {
   "cell_type": "code",
   "execution_count": null,
   "id": "b79a8fb4",
   "metadata": {},
   "outputs": [],
   "source": [
    "# 1484. Group Sold Products By The Date\n",
    "select sell_date, count(distinct product) as num_sold, string_agg(product,',') as products from (select distinct sell_date, product from activities) as t\n",
    "group by sell_date\n",
    "order by sell_date\n",
    "\n",
    "-- MySQL\n",
    "SELECT a.sell_date, COUNT(DISTINCT(a.product)) AS num_sold, GROUP_CONCAT(DISTINCT(a.product) ORDER BY a.product) AS products FROM Activities a\n",
    "GROUP BY a.sell_date\n",
    "ORDER BY a.sell_date ASC;\n",
    "\n",
    "## string_agg in MSSQL and GROUP_CONCAT in MySQL."
   ]
  },
  {
   "cell_type": "code",
   "execution_count": null,
   "id": "f8f7a326",
   "metadata": {},
   "outputs": [],
   "source": [
    "# 1527. Patients With a Condition\n",
    "select * from patients\n",
    "where conditions like '% DIAB1%' or conditions like 'DIAB1%'"
   ]
  },
  {
   "cell_type": "code",
   "execution_count": null,
   "id": "ee5b06b3",
   "metadata": {},
   "outputs": [],
   "source": [
    "# 1965. Employees With Missing Information\n",
    "select s.employee_id from employees e\n",
    "full outer join salaries s on e.employee_id = s.employee_id\n",
    "where e.employee_id is null\n",
    "union\n",
    "select e.employee_id from employees e\n",
    "full outer join salaries s on e.employee_id = s.employee_id\n",
    "where s.employee_id is null"
   ]
  },
  {
   "cell_type": "code",
   "execution_count": null,
   "id": "2a99b923",
   "metadata": {},
   "outputs": [],
   "source": [
    "# 1795. Rearrange Products Table\n",
    "select product_id,'store1' as store, store1 as price from Products\n",
    "where store1 is not null \n",
    "union\n",
    "select product_id,'store2' as store, store2 as price from Products\n",
    "where store2 is not null \n",
    "union\n",
    "select product_id,'store3' as store, store3 as price from Products\n",
    "where store3 is not null "
   ]
  },
  {
   "cell_type": "code",
   "execution_count": null,
   "id": "9379ceb3",
   "metadata": {},
   "outputs": [],
   "source": [
    "# 608. Tree Node\n",
    "select id,\n",
    "Case\n",
    "    When p_id is null then 'Root'\n",
    "    When p_id in (select id from tree) and id in (select p_id from tree) then 'Inner'\n",
    "    Else 'Leaf'\n",
    "END as type\n",
    "from tree\n"
   ]
  },
  {
   "cell_type": "code",
   "execution_count": null,
   "id": "ef696600",
   "metadata": {},
   "outputs": [],
   "source": [
    "# 176. Second Highest Salary\n",
    "MySQL:\n",
    "    \n",
    "select IFNULL(\n",
    "(select distinct salary from employee\n",
    "order by salary desc\n",
    "limit 1 offset 1)  , NUll) as  SecondHighestSalary"
   ]
  },
  {
   "cell_type": "code",
   "execution_count": null,
   "id": "436154fb",
   "metadata": {},
   "outputs": [],
   "source": [
    "# 175. Combine Two Tables\n",
    "select p.firstname, p.lastname, a.city, a.state from person p\n",
    "left join address a on p.personId = a.personId"
   ]
  },
  {
   "cell_type": "code",
   "execution_count": null,
   "id": "db65b771",
   "metadata": {},
   "outputs": [],
   "source": [
    "# 1581. Customer Who Visited but Did Not Make Any Transactions\n",
    "select customer_id, count(*) as count_no_trans  from visits\n",
    "where visit_id not in (select distinct visit_id from transactions)\n",
    "group by customer_id"
   ]
  },
  {
   "cell_type": "code",
   "execution_count": null,
   "id": "0caad946",
   "metadata": {},
   "outputs": [],
   "source": [
    "# 1148. Article Views I\n",
    "select distinct author_id as id from views\n",
    "where author_id = viewer_id\n",
    "order by author_id"
   ]
  },
  {
   "cell_type": "code",
   "execution_count": null,
   "id": "0734c3f8",
   "metadata": {},
   "outputs": [],
   "source": [
    "# 197. Rising Temperature\n",
    "select w1.id as Id from weather w1\n",
    "inner join weather w2 on datediff(day,w2.recordDate,w1.recordDate) = 1\n",
    "where w1.temperature > w2.temperature\n",
    "\n",
    "# The order inside the function datediff matters. \n",
    "# DATEDIFF(interval, date1, date2) if date2 > date1, then the result will be positive."
   ]
  },
  {
   "cell_type": "code",
   "execution_count": null,
   "id": "9a58f406",
   "metadata": {},
   "outputs": [],
   "source": [
    "# 607. Sales Person\n",
    "select name from SalesPerson\n",
    "where name not in (\n",
    "select s.name from SalesPerson s\n",
    "inner join orders o on o.sales_id = s.sales_id\n",
    "inner join Company c on c.com_id = o.com_id\n",
    "where c.name = 'RED')"
   ]
  },
  {
   "cell_type": "code",
   "execution_count": null,
   "id": "19568f04",
   "metadata": {},
   "outputs": [],
   "source": [
    "#1141. User Activity for the Past 30 Days I\n",
    "\n",
    "select activity_date as day , count(distinct user_id) as active_users  from activity\n",
    "group by activity_Date\n",
    "having \n",
    "datediff(day,activity_date,'2019-07-27') < 30 \n",
    "and \n",
    "datediff(day,activity_date,'2019-07-27') > 0"
   ]
  },
  {
   "cell_type": "code",
   "execution_count": null,
   "id": "1b4e9437",
   "metadata": {},
   "outputs": [],
   "source": [
    "#1693. Daily Leads and Partners\n",
    "\n",
    "select date_id, make_name,\n",
    "count(distinct lead_id) as unique_leads,\n",
    "count(distinct partner_id) as unique_partners\n",
    "from DailySales\n",
    "group by date_id, make_name"
   ]
  },
  {
   "cell_type": "code",
   "execution_count": null,
   "id": "2b0bb905",
   "metadata": {},
   "outputs": [],
   "source": [
    "# 1729. Find Followers Count\n",
    "select user_id, count(distinct follower_id) as followers_count from Followers\n",
    "group by user_id\n",
    "order by user_id "
   ]
  },
  {
   "cell_type": "code",
   "execution_count": null,
   "id": "6cf14b42",
   "metadata": {},
   "outputs": [],
   "source": [
    "#586. Customer Placing the Largest Number of Orders\n",
    "\n",
    "select customer_number from (select customer_number, count(customer_number) as freq from orders\n",
    "group by customer_number) as t\n",
    "where freq = (select max(freq) from (select customer_number, count(customer_number) as freq from orders\n",
    "group by customer_number) as t2)\n",
    "# This code prints all of the maximum orderers\n",
    "---\n",
    "\n",
    "select top 1 customer_number from orders\n",
    "group by customer_number\n",
    "order by count(order_number) desc\n",
    "\n",
    "---\n",
    "\n",
    "# Also we can use with clause\n",
    "with t (customer_number, freq)\n",
    "as \n",
    "(select customer_number, count(customer_number) as freq from orders\n",
    " group by customer_number)\n",
    "select customer_number from t\n",
    "where freq = (select max(freq) from t)"
   ]
  },
  {
   "cell_type": "code",
   "execution_count": null,
   "id": "91ff5659",
   "metadata": {},
   "outputs": [],
   "source": [
    "# 511. Game Play Analysis I\n",
    "\n",
    "select player_id, min(event_date) as first_login from activity\n",
    "group by player_id"
   ]
  },
  {
   "cell_type": "code",
   "execution_count": null,
   "id": "abf463b4",
   "metadata": {},
   "outputs": [],
   "source": [
    "# 1890. The Latest Login in 2020\n",
    "\n",
    "select user_id, max(time_stamp) as last_stamp from logins\n",
    "where year(time_stamp) = 2020\n",
    "group by user_id"
   ]
  },
  {
   "cell_type": "code",
   "execution_count": null,
   "id": "997acd9f",
   "metadata": {},
   "outputs": [],
   "source": [
    "# 1741. Find Total Time Spent by Each Employee\n",
    "\n",
    "select event_day as day, emp_id, (sum(out_time) - sum(in_time)) as total_time from Employees\n",
    "group by emp_id, event_day"
   ]
  },
  {
   "cell_type": "code",
   "execution_count": null,
   "id": "ab6c7e77",
   "metadata": {},
   "outputs": [],
   "source": [
    "# 1393. Capital Gain/Loss\n",
    "\n",
    "select stock_name, sum(profit) as capital_gain_loss from (select stock_name, \n",
    "    CASE\n",
    "        when operation = 'Buy' then -price\n",
    "        when operation = 'Sell' then price\n",
    "    END AS profit\n",
    "from stocks) as t\n",
    "group by stock_name"
   ]
  },
  {
   "cell_type": "code",
   "execution_count": null,
   "id": "ba75bdba",
   "metadata": {},
   "outputs": [],
   "source": [
    "# 1407. Top Travellers\n",
    "select u.name , isnull(sum(distance),0) as travelled_distance from rides r\n",
    "right join users u on u.id = r.user_id\n",
    "group by u.name, u.id\n",
    "order by travelled_distance desc, u.name asc"
   ]
  },
  {
   "cell_type": "code",
   "execution_count": null,
   "id": "0a0a7564",
   "metadata": {},
   "outputs": [],
   "source": [
    "# 1158. Market Analysis I\n",
    "select u.user_id as buyer_id, u.join_date, count(o.order_id) as orders_in_2019 from users u \n",
    "left join orders o on u.user_id = o.buyer_id and year(o.order_date) = 2019\n",
    "group by u.user_id, u.join_date\n",
    "\n",
    "## Very good question. Pay attendtion to the join statement."
   ]
  },
  {
   "cell_type": "code",
   "execution_count": null,
   "id": "ca553962",
   "metadata": {},
   "outputs": [],
   "source": [
    "# 182. Duplicate Emails\n",
    "\n",
    "select email from person\n",
    "group by email\n",
    "having count(id) > 1"
   ]
  },
  {
   "cell_type": "code",
   "execution_count": null,
   "id": "81d513dd",
   "metadata": {},
   "outputs": [],
   "source": [
    "# 1050. Actors and Directors Who Cooperated At Least Three Times\n",
    "\n",
    "select actor_id, director_id from ActorDirector\n",
    "group by actor_id, director_id\n",
    "having count(timestamp) >= 3"
   ]
  },
  {
   "cell_type": "code",
   "execution_count": null,
   "id": "91533ea1",
   "metadata": {},
   "outputs": [],
   "source": [
    "# 1587. Bank Account Summary II\n",
    "\n",
    "select u.name as NAME, sum(t.amount) as BALANCE from Users u\n",
    "left join transactions t on u.account = t.account\n",
    "group by u.account, u.name\n",
    "having sum(t.amount) > 10000"
   ]
  },
  {
   "cell_type": "code",
   "execution_count": null,
   "id": "b5e4e43b",
   "metadata": {},
   "outputs": [],
   "source": [
    "# 1084. Sales Analysis III\n",
    "\n",
    "select p.product_id, p.product_name from product p\n",
    "inner join sales s on s.product_id = p.product_id\n",
    "group by p.product_id, p.product_name\n",
    "having max(s.sale_date) <= '2019-03-31' and min(s.sale_date) >= '2019-01-01'"
   ]
  },
  {
   "cell_type": "code",
   "execution_count": null,
   "id": "93e9d1b6",
   "metadata": {},
   "outputs": [],
   "source": [
    "# 1699. Number of Calls Between Two Persons\n",
    "\n",
    "-- MYSQL\n",
    "SELECT LEAST(from_id,to_id) as person1,\n",
    "GREATEST(from_id,to_id) as person2,\n",
    "COUNT(*) as call_count,\n",
    "SUM(duration) as total_duration\n",
    "FROM Calls\n",
    "GROUP BY person1,person2;\n",
    "# Memorize these MySQL functions: GREATEST and LEAST\n",
    "\n",
    "-- MSSQL\n",
    "with CTE as \n",
    "(SELECT \n",
    "    CASE\n",
    "        WHEN from_id > to_id THEN to_id\n",
    "        ELSE from_id\n",
    "    END AS person1,\n",
    "    CASE\n",
    "        WHEN from_id > to_id THEN from_id\n",
    "        ELSE to_id\n",
    "    END AS person2,\n",
    "    duration\n",
    "FROM Calls)\n",
    "\n",
    "select person1, person2, count(duration) as call_count, sum(duration) as total_duration from CTE\n",
    "group by person1, person2\n",
    "\n",
    "# In MS SQL you can't use the columns created by CASE statement in group by or where statement\n",
    "\n",
    "# Several CTE are possbile: with CTE1 as(select ...), CTE2 as (select ...)"
   ]
  },
  {
   "cell_type": "code",
   "execution_count": null,
   "id": "5d51a6ab",
   "metadata": {},
   "outputs": [],
   "source": [
    "# 1251. Average Selling Price\n",
    "\n",
    "select u.product_id, cast(round(sum(u.units*1.0* p.price) / sum(units),2) as numeric(36,2)) as average_price\n",
    "from UnitsSold u\n",
    "inner join prices p on u.product_id = p.product_id and (u.purchase_date >= p.start_date and u.purchase_date <= p.end_date)\n",
    "group by u.product_id\n",
    "\n",
    "# Cast(col as nnumeric(36,2)) -> only two digits after comma\n",
    "# or decimal"
   ]
  },
  {
   "cell_type": "code",
   "execution_count": null,
   "id": "c830d139",
   "metadata": {},
   "outputs": [],
   "source": [
    "# 1571. Warehouse Manager\n",
    "\n",
    "select w.name as warehouse_name, sum(w.units*p.width*p.length*p.height) as volume from Warehouse w\n",
    "inner join products p on w.product_id = p.product_id\n",
    "group by w.name\n"
   ]
  },
  {
   "cell_type": "code",
   "execution_count": null,
   "id": "711c094b",
   "metadata": {},
   "outputs": [],
   "source": [
    "# 1445. Apples & Oranges\n",
    "\n",
    "-- MS SQL\n",
    "with CTE as (\n",
    "select sale_date,\n",
    "    CASE \n",
    "        when fruit = 'apples' then sold_num\n",
    "        when fruit = 'oranges' then -sold_num\n",
    "    END AS col\n",
    "from Sales)\n",
    "\n",
    "select sale_date, sum(col) as diff from CTE\n",
    "group by sale_date\n",
    "order by sale_date\n",
    "\n",
    "-- MySQL\n",
    "select sale_date, sum(case when fruit='apples' then sold_num else -sold_num end) as diff\n",
    "from sales\n",
    "group by sale_date"
   ]
  },
  {
   "cell_type": "code",
   "execution_count": null,
   "id": "1e093ba9",
   "metadata": {},
   "outputs": [],
   "source": [
    "# 1193. Monthly Transactions I\n",
    "\n",
    "-- MySQL\n",
    "select DATE_FORMAT(trans_date, \"%Y-%m\") as month, country, count(amount) as trans_count, sum(state = 'approved') as approved_count, sum(amount) as trans_total_amount, \n",
    "sum(\n",
    "    CASE \n",
    "        When state = 'approved' then amount\n",
    "        ELSE 0\n",
    "    END\n",
    "    ) as approved_total_amount\n",
    "    \n",
    "from Transactions\n",
    "group by country, month\n",
    "\n",
    "# Tip: learn DATE_FORMAT(trans_date, \"%Y-%m\") for MySQL.\n",
    "# Tip: sum(state = 'approved') in MySQL could be very useful\n",
    "# Tip: review the sum of a case condition. You can do sum on a case statement.\n"
   ]
  },
  {
   "cell_type": "code",
   "execution_count": null,
   "id": "a0efbb61",
   "metadata": {},
   "outputs": [],
   "source": [
    "# 1633. Percentage of Users Attended a Contest\n",
    "\n",
    "select contest_id, cast(round(count(user_id) * 100.0 / (select count(user_id) from users) ,2) as numeric(36,2) ) as percentage from Register \n",
    "group by contest_id\n",
    "order by percentage DESC, contest_id ASC"
   ]
  },
  {
   "cell_type": "code",
   "execution_count": null,
   "id": "765415e1",
   "metadata": {},
   "outputs": [],
   "source": [
    "# 1173. Immediate Food Delivery I\n",
    "\n",
    "-- MSSQL\n",
    "WITH CTE as (\n",
    "select \n",
    "    CASE\n",
    "        WHEN order_date =  customer_pref_delivery_date THEN 1.0\n",
    "        ELSE 0\n",
    "    END AS ontime \n",
    "from delivery)\n",
    "\n",
    "select round(avg(ontime) * 100.0,2) as immediate_percentage  from CTE\n",
    "\n",
    "-- MySQL\n",
    "select round(sum(\n",
    "    CASE\n",
    "        WHEN order_date =  customer_pref_delivery_date THEN 1\n",
    "        ELSE 0\n",
    "    END\n",
    "    ) * 100.0 / count(delivery_id),2) as immediate_percentage \n",
    "from delivery"
   ]
  },
  {
   "cell_type": "code",
   "execution_count": null,
   "id": "86cc9294",
   "metadata": {},
   "outputs": [],
   "source": [
    "# 1211. Queries Quality and Percentage\n",
    "\n",
    "-- MySQL\n",
    "SELECT\n",
    "    query_name,\n",
    "    ROUND(AVG(rating/position), 2) AS quality,\n",
    "    ROUND(AVG(rating < 3)*100, 2) AS poor_query_percentage\n",
    "FROM Queries\n",
    "GROUP BY query_name"
   ]
  },
  {
   "cell_type": "code",
   "execution_count": null,
   "id": "d0ed48f6",
   "metadata": {},
   "outputs": [],
   "source": [
    "# 1607. Sellers With No Sales\n",
    "\n",
    "select seller_name from seller\n",
    "where seller_name not in (select s.seller_name from seller s\n",
    "inner join orders o on s.seller_id = o.seller_id\n",
    "where year(sale_date) = 2020)\n",
    "order by seller_name"
   ]
  },
  {
   "cell_type": "code",
   "execution_count": null,
   "id": "e799d730",
   "metadata": {},
   "outputs": [],
   "source": [
    "# \n",
    "\n",
    "with CTE as(\n",
    "select num, count(num) as ct from MyNumbers\n",
    "group by num)\n",
    "\n",
    "select max(num) as num from CTE\n",
    "where ct = 1\n",
    "\n",
    "# Max function can return Null\n",
    "# Tip: you can't use a column created by an agregate function in where clause:\n",
    "select num, count(num) as ct from MyNumbers\n",
    "where ct = 1\n",
    "group by num\n",
    "# This won't work. Instead:\n",
    "select num, count(num) as ct from MyNumbers\n",
    "group by num\n",
    "having count(num) = 1"
   ]
  },
  {
   "cell_type": "code",
   "execution_count": null,
   "id": "06e0df7e",
   "metadata": {},
   "outputs": [],
   "source": [
    "# 1112. Highest Grade For Each Student\n",
    "\n",
    "with max_grade_per_student as (\n",
    "select student_id , max(grade) as grade from Enrollments\n",
    "group by student_id)\n",
    "\n",
    "select m.student_id, min(e.course_id) as course_id, max(m.grade) as grade from max_grade_per_student m\n",
    "inner join Enrollments e on m.student_id = e.student_id\n",
    "where m.grade = e.grade\n",
    "group by m.student_id\n",
    "order by m.student_id asc"
   ]
  },
  {
   "cell_type": "code",
   "execution_count": null,
   "id": "6657b5cb",
   "metadata": {},
   "outputs": [],
   "source": [
    "# 1398. Customers Who Bought Products A and B but Not C\n",
    "\n",
    "-- MSSQL\n",
    "with CTE as (\n",
    "select customer_id, \n",
    "    sum(CASE \n",
    "        When product_name = 'A' then 1\n",
    "        else 0\n",
    "        end) as A_cnt,\n",
    "    sum(CASE \n",
    "        When product_name = 'B' then 1\n",
    "        else 0\n",
    "        end) as B_cnt,\n",
    "    sum(CASE \n",
    "        When product_name = 'C' then 1\n",
    "        else 0\n",
    "        end) as C_cnt\n",
    "    from orders\n",
    "    group by customer_id\n",
    "    \n",
    ")\n",
    "\n",
    "select ct.customer_id, c.customer_name from CTE ct\n",
    "inner join customers c on ct.customer_id   = c.customer_id  \n",
    "where ct.A_cnt > 0 and ct.B_cnt > 0 and ct.C_cnt = 0\n",
    "\n",
    "# Tip: pay close attention to how to end sum(CASE).\n",
    "\n",
    "-- MySQL\n",
    "select o.customer_id, c.customer_name from orders o\n",
    "inner join customers c on o.customer_id   = c.customer_id  \n",
    "group by o.customer_id\n",
    "having sum(o.product_name = 'A') > 0 and sum(o.product_name = 'B') > 0 and sum(o.product_name = 'C') = 0"
   ]
  },
  {
   "cell_type": "code",
   "execution_count": null,
   "id": "acede61b",
   "metadata": {},
   "outputs": [],
   "source": [
    "# 1440. Evaluate Boolean Expression\n",
    "\n",
    "select e.left_operand, e.operator, e.right_operand,\n",
    "    CASE\n",
    "        when operator = '=' and v1.value = v2.value then 'true'\n",
    "        when operator = '=' and v1.value != v2.value then 'false'\n",
    "        when operator = '>' and v1.value > v2.value then 'true'\n",
    "        when operator = '>' and v1.value !> v2.value then 'false'\n",
    "        when operator = '<' and v1.value < v2.value then 'true'\n",
    "        when operator = '<' and v1.value !< v2.value then 'false'\n",
    "        END as value\n",
    "from Expressions e\n",
    "inner join variables v1 on e.left_operand = v1.name\n",
    "inner join variables v2 on e.right_operand = v2.name\n",
    "\n",
    "-- or\n",
    "\n",
    "select e.left_operand, e.operator, e.right_operand,\n",
    "    CASE\n",
    "        when operator = '=' and v1.value = v2.value then 'true'\n",
    "        when operator = '>' and v1.value > v2.value then 'true'\n",
    "        when operator = '<' and v1.value < v2.value then 'true'\n",
    "        else 'false'\n",
    "        END as value\n",
    "from Expressions e\n",
    "inner join variables v1 on e.left_operand = v1.name\n",
    "inner join variables v2 on e.right_operand = v2.name"
   ]
  },
  {
   "cell_type": "code",
   "execution_count": null,
   "id": "dfa7d9ab",
   "metadata": {},
   "outputs": [],
   "source": [
    "# 1440. Evaluate Boolean Expression\n",
    "\n",
    "with CTE as(\n",
    "select user2_id as usr from Friendship\n",
    "where user1_id = 1\n",
    "union \n",
    "select user1_id as usr from Friendship\n",
    "where user2_id = 1)\n",
    "-- CTE2 as(\n",
    "--     select distinct page_id from likes\n",
    "--     where user_id = 1)\n",
    "    \n",
    "select distinct isnull(l.page_id,' ') as recommended_page from likes l\n",
    "right join CTE c on c.usr = l.user_id and l.page_id not in (select distinct page_id from likes\n",
    "    where user_id = 1)"
   ]
  },
  {
   "cell_type": "code",
   "execution_count": null,
   "id": "0edc9230",
   "metadata": {},
   "outputs": [],
   "source": [
    "# 1264. Page Recommendations\n",
    "\n",
    "with CTE as(\n",
    "select user2_id as usr from Friendship\n",
    "where user1_id = 1\n",
    "union \n",
    "select user1_id as usr from Friendship\n",
    "where user2_id = 1)\n",
    "    \n",
    "select distinct l.page_id as recommended_page from likes l\n",
    "inner join CTE c on c.usr = l.user_id \n",
    "where l.page_id not in (select distinct page_id from likes\n",
    "    where user_id = 1)\n",
    "\n",
    "-- MySQL\n",
    "select distinct page_id as recommended_page\n",
    "from\n",
    "(select\n",
    "case\n",
    "when user1_id=1 then user2_id\n",
    "when user2_id=1 then user1_id\n",
    "end as user_id\n",
    "from Friendship) a\n",
    "join Likes\n",
    "on a.user_id=Likes.user_id\n",
    "where page_id not in (select page_id from Likes where user_id=1)"
   ]
  },
  {
   "cell_type": "code",
   "execution_count": null,
   "id": "b44e6917",
   "metadata": {},
   "outputs": [],
   "source": [
    "# 570. Managers with at Least 5 Direct Reports\n",
    "\n",
    "select e1.name from employee e1\n",
    "inner join employee e2 on e1.id = e2.managerId\n",
    "group by e1.id\n",
    "having count(e2.managerId) >= 5"
   ]
  },
  {
   "cell_type": "code",
   "execution_count": null,
   "id": "6a3031b8",
   "metadata": {},
   "outputs": [],
   "source": [
    "# 1303. Find the Team Size\n",
    "\n",
    "# MySQL with  \n",
    "With cte as (\n",
    "    select team_id, count(employee_id) as cnt from employee \n",
    "    group by team_id\n",
    "    )\n",
    "    \n",
    "select e1.employee_id as employee_id , c.cnt as team_size from employee e1\n",
    "inner join cte c on e1.team_id = c.team_id\n",
    "group by e1.employee_id\n",
    "\n",
    "\n",
    "# MS SQL partition by\n",
    "select employee_id, count(*) over(partition by team_id) as team_size\n",
    "from employee"
   ]
  },
  {
   "cell_type": "code",
   "execution_count": null,
   "id": "11a1320d",
   "metadata": {},
   "outputs": [],
   "source": [
    "# 1280. Students and Examinations\n",
    "\n",
    "select s.student_id, s.student_name, sub.subject_name, count(e.subject_name) as attended_exams from students s\n",
    "CROSS JOIN Subjects sub \n",
    "left join Examinations e on e.student_id = s.student_id and sub.subject_name = e.subject_name\n",
    "group by s.student_id, s.student_name, sub.subject_name\n",
    "order by s.student_id, sub.subject_name\n",
    "\n",
    "# Count(column) with count non-Null values. Count(*) will count whole values including nulls."
   ]
  },
  {
   "cell_type": "code",
   "execution_count": null,
   "id": "6eeff9f3",
   "metadata": {},
   "outputs": [],
   "source": [
    "# 1501. Countries You Can Safely Invest In\n",
    "\n",
    "select C.name as country from Country C\n",
    "left join Person P on C.country_code = Left(phone_number,3)\n",
    "inner join Calls calls on calls.caller_id  = P.id or calls.callee_id  = P.id\n",
    "group by C.name\n",
    "having AVG(duration*1.0) > (select AVG(duration * 1.0) as ga from calls)\n",
    "\n",
    "# Note: I think you can't use column alias inside having clause. For instance, if you named AVG(duration*1.0) as av\n",
    "# in the select statement, you cant use having av > 5. It won't work."
   ]
  },
  {
   "cell_type": "code",
   "execution_count": null,
   "id": "2287924d",
   "metadata": {},
   "outputs": [],
   "source": [
    "# 184. Department Highest Salary\n",
    "\n",
    "with CTE as (\n",
    "select  departmentId, max(salary) as ms from Employee\n",
    "    group by departmentId\n",
    ")\n",
    "\n",
    "select D.name as Department, E.name as Employee, E.salary as Salary from Department D\n",
    "inner join CTE on CTE.departmentId = D.id\n",
    "inner join Employee E on E.departmentId = D.id\n",
    "where E.salary = CTE.ms"
   ]
  },
  {
   "cell_type": "code",
   "execution_count": null,
   "id": "602ea16d",
   "metadata": {},
   "outputs": [],
   "source": [
    "# 580. Count Student Number in Departments\n",
    "\n",
    "select d.dept_name, count(student_name) as student_number from Department d\n",
    "left join student s on d.dept_id = s.dept_id\n",
    "group by d.dept_id, d.dept_name\n",
    "order by student_number desc, d.dept_name"
   ]
  },
  {
   "cell_type": "code",
   "execution_count": null,
   "id": "78edb04d",
   "metadata": {},
   "outputs": [],
   "source": [
    "# 1294. Weather Type in Each Country\n",
    "\n",
    "select c.country_name, \n",
    "Case\n",
    "    When avg(w.weather_state*1.0) <= 15 then 'Cold'\n",
    "    When avg(w.weather_state*1.0) >= 25 then 'Hot'\n",
    "    Else 'Warm'\n",
    "End as weather_type\n",
    "    \n",
    "\n",
    "from weather w\n",
    "inner join Countries c on c.country_id = w.country_id\n",
    "where month(day) = 11\n",
    "group by c.country_name\n",
    "\n",
    "# Tip: you can use avg or other aggregate functions inside case. Of course there should be aa group by statement\n",
    "# in your select clause."
   ]
  },
  {
   "cell_type": "code",
   "execution_count": null,
   "id": "3d60a5ae",
   "metadata": {},
   "outputs": [],
   "source": [
    "# 626. Exchange Seats\n",
    "\n",
    "select \n",
    "Case\n",
    "    When id%2 = 1 and id != (select count(id) from seat) then id+1\n",
    "    When id%2 = 0 then id-1\n",
    "    ELSE id\n",
    "END as id, student\n",
    "from seat \n",
    "order by id\n"
   ]
  },
  {
   "cell_type": "code",
   "execution_count": null,
   "id": "c21ff652",
   "metadata": {},
   "outputs": [],
   "source": [
    "# 1783. Grand Slam Titles\n",
    "\n",
    "-- MSSQL\n",
    "with CTE as (select Wimbledon as t, count(year) as cnt from Championships\n",
    "group by Wimbledon\n",
    "\n",
    "union all\n",
    "\n",
    "select Fr_open as t, count(year) as cnt from Championships\n",
    "group by Fr_open\n",
    "            \n",
    "union all\n",
    "\n",
    "select US_open as t, count(year) as cnt from Championships\n",
    "group by US_open\n",
    "            \n",
    "union all\n",
    "\n",
    "select Au_open as t, count(year) as cnt from Championships\n",
    "group by Au_open)\n",
    "\n",
    "select c.t as player_id, p.player_name, sum(cnt) as grand_slams_count from CTE c\n",
    "inner join players p on c.t = p.player_id\n",
    "group by t, p.player_name\n",
    "\n",
    "-- MySQL\n",
    "SELECT player_id,player_name,\n",
    "SUM(player_id=Wimbledon)+SUM(player_id=Fr_open)+SUM(player_id=US_open)+SUM(player_id=Au_open)\n",
    "as grand_slams_count\n",
    "FROM Players\n",
    "JOIN Championships\n",
    "ON player_id=Wimbledon or player_id=Fr_open or player_id=US_open or player_id=Au_open\n",
    "GROUP BY player_id;"
   ]
  },
  {
   "cell_type": "markdown",
   "id": "f16dee1a",
   "metadata": {},
   "source": [
    "## From this point on I will only use MySQL"
   ]
  },
  {
   "cell_type": "code",
   "execution_count": null,
   "id": "16550ff6",
   "metadata": {},
   "outputs": [],
   "source": [
    "# 1164. Product Price at a Given Date\n",
    "\n",
    "select distinct product_id, 10 as price from products\n",
    "group by product_id\n",
    "having min(change_date)> '2019-08-16'\n",
    "\n",
    "union \n",
    "\n",
    "select product_id, new_price from products\n",
    "where (product_id,change_date) in\n",
    "(select product_id, max(change_date) from products\n",
    "where change_date <= '2019-08-16'\n",
    "group by product_id)\n",
    "\n",
    "# Pay attention to the where clause used in this problem."
   ]
  },
  {
   "cell_type": "code",
   "execution_count": null,
   "id": "c679f35f",
   "metadata": {},
   "outputs": [],
   "source": [
    "# 603. Consecutive Available Seats\n",
    "\n",
    "select distinct C1.seat_id from Cinema C1\n",
    "inner join Cinema C2 on C1.seat_id = C2.seat_id + 1 or C1.seat_id = C2.seat_id - 1\n",
    "where C1.free = 1 and C2.free = 1\n",
    "order by seat_id\n",
    "\n",
    "# Also we can use abs(C1.seat_id - C2.seat_id) = 1"
   ]
  },
  {
   "cell_type": "code",
   "execution_count": null,
   "id": "a28d197b",
   "metadata": {},
   "outputs": [],
   "source": [
    "# 1731. The Number of Employees Which Report to Each Employee\n",
    "\n",
    "select distinct e1.reports_to as employee_id, e2.name, count(e1.reports_to) as reports_count, round(AVG(e1.age)) as average_age from Employees e1\n",
    "inner join Employees e2 on e1.reports_to = e2.employee_id\n",
    "group by e1.reports_to\n",
    "order by employee_id\n",
    "\n",
    "# My SQL round function"
   ]
  },
  {
   "cell_type": "code",
   "execution_count": null,
   "id": "85a42f38",
   "metadata": {},
   "outputs": [],
   "source": [
    "# 1747. Leetflex Banned Accounts\n",
    "\n",
    "select l1.account_id from loginfo l1\n",
    "inner join loginfo l2 on l1.account_id = l2.account_id and l1.ip_address != l2.ip_address\n",
    "where l1.login between l2.login and l2.logout \n",
    "or\n",
    "l1.logout between l2.login and l2.logout\n",
    "group by l1.account_id\n",
    "\n",
    "-- second method\n",
    "\n",
    "select distinct l1.account_id from loginfo l1\n",
    "inner join loginfo l2 on l1.account_id = l2.account_id and l1.ip_address != l2.ip_address\n",
    "where l1.login between l2.login and l2.logout \n",
    "or\n",
    "l1.logout between l2.login and l2.logout\n",
    "\n",
    "# Tip: sometimes distinct could do the job isntead of group by"
   ]
  },
  {
   "cell_type": "code",
   "execution_count": null,
   "id": "6d73a2e3",
   "metadata": {},
   "outputs": [],
   "source": [
    "# 181. Employees Earning More Than Their Managers\n",
    "\n",
    "select e1.name as Employee  from employee e1\n",
    "inner join employee e2 on e1.managerid = e2.id\n",
    "where e1.salary > e2.salary"
   ]
  },
  {
   "cell_type": "code",
   "execution_count": null,
   "id": "fadd652e",
   "metadata": {},
   "outputs": [],
   "source": [
    "# 1459. Rectangles Area\n",
    "\n",
    "select p1.id as P1, p2.id as P2, abs((p1.x_value - p2.x_value)*(p1.y_value - p2.y_value)) as AREA \n",
    "from Points p1\n",
    "inner join points p2 on p1.x_value != p2.x_value and p1.y_value != p2.y_value and \n",
    "p1.id < p2.id\n",
    "-- inner join points p2 on abs((p1.x_value - p2.x_value)*(p1.y_value - p2.y_value))\n",
    "order by area desc, p1.id asc, p2.id asc\n",
    "\n",
    "# Tip: join conditions could be fansy!"
   ]
  },
  {
   "cell_type": "code",
   "execution_count": null,
   "id": "1b07deef",
   "metadata": {},
   "outputs": [],
   "source": [
    "# 180. Consecutive Numbers\n",
    "\n",
    "select distinct l1.num as ConsecutiveNums from Logs l1\n",
    "inner join logs l2 on l1.id = l2.id + 1\n",
    "inner join logs l3 on l1.id = l3.id + 2\n",
    "where l1.num = l2.num and l2.num = l3.num\n",
    "\n",
    "-- second method\n",
    "\n",
    "select distinct Num as ConsecutiveNums\n",
    "from Logs\n",
    "where (Id + 1, Num) in (select * from Logs) and (Id + 2, Num) in (select * from Logs)"
   ]
  },
  {
   "cell_type": "code",
   "execution_count": null,
   "id": "c23b5e3c",
   "metadata": {},
   "outputs": [],
   "source": [
    "# 1988. Find Cutoff Score for Each School\n",
    "\n",
    "select school_id, -1 as score from schools\n",
    "where capacity < (select min(student_count) from exam)\n",
    "\n",
    "union\n",
    "\n",
    "select s.school_id, min(e.score) from schools s\n",
    "inner join exam e on s.capacity >= e.student_count and s.capacity >= (select min(student_count) from exam)\n",
    "group by s.school_id\n",
    "\n",
    "--- second method\n",
    "\n",
    "select s.school_id, ifnull(min(e.score),-1) as score from schools s\n",
    "left join exam e on s.capacity >= e.student_count\n",
    "group by s.school_id\n",
    "\n",
    "# Tip learn the ifnull function of MySQL here. You can use (aggregation functions inside ifnull.)"
   ]
  },
  {
   "cell_type": "code",
   "execution_count": null,
   "id": "426bfd28",
   "metadata": {},
   "outputs": [],
   "source": [
    "# 1549. The Most Recent Orders for Each Product\n",
    "with CTE as (\n",
    "    select p.product_id, max(o.order_date) from products p\n",
    "    inner join orders o on p.product_id = o.product_id\n",
    "    group by p.product_id\n",
    ")\n",
    "select p.product_name, p.product_id, o.order_id, o.order_date from products p\n",
    "inner join orders o on p.product_id = o.product_id\n",
    "where (p.product_id,o.order_date) in (select * from CTE)\n",
    "order by p.product_name asc, p.product_id asc, o.order_id asc\n",
    "\n",
    "# Tip: learn the where clause in this problem. It is really helpful."
   ]
  },
  {
   "cell_type": "code",
   "execution_count": null,
   "id": "c1622267",
   "metadata": {},
   "outputs": [],
   "source": [
    "# 1321. Restaurant Growth\n",
    "\n",
    "select distinct visited_on, amount, round(amount/7, 2) as average_amount\n",
    "from (select visited_on, \n",
    "      sum(amount) over (order by visited_on range between interval 6 day preceding and current row) as amount,\n",
    "      dense_rank() over (order by visited_on) as rk\n",
    "      from Customer) as t\n",
    "where rk >= 7\n",
    "\n",
    "# Learn the Window function format from this question.\n",
    "# The row_number gives continuous numbers, while rank and dense_rank give the same \n",
    "# rank for duplicates, but the next number in rank is as per continuous \n",
    "# order so you will see a jump but in dense_rank doesn't have any gap in rankings."
   ]
  },
  {
   "cell_type": "code",
   "execution_count": null,
   "id": "ab6358bf",
   "metadata": {},
   "outputs": [],
   "source": [
    "# 1045. Customers Who Bought All Products\n",
    "\n",
    "select customer_id from customer\n",
    "group by customer_id\n",
    "having count(distinct product_key) = (select count(*) from product)"
   ]
  },
  {
   "cell_type": "code",
   "execution_count": null,
   "id": "6c158c73",
   "metadata": {},
   "outputs": [],
   "source": [
    "# 1341. Movie Rating\n",
    "\n",
    "(select U.name as results from MovieRating M\n",
    "inner join Users U on M.user_id = U.user_id\n",
    "group by M.user_id\n",
    "order by count(M.movie_id) desc, U.name asc\n",
    "Limit 1)\n",
    "\n",
    "union\n",
    "\n",
    "(select M2.title as results from MovieRating M\n",
    "inner join Movies M2 on M2.movie_id = M.movie_id\n",
    "where month(M.created_at) = 2\n",
    "group by M.movie_id\n",
    "order by avg(M.rating) desc, M2.title asc\n",
    "Limit 1)\n",
    "\n",
    "# Tips: You should use parenthesis between union statement when you have order by clause. \n",
    "# Tip: you are allowed to use order by aggregate functions like this problem.\n",
    "# Tip: MySQL function: Month returns the number of the month"
   ]
  },
  {
   "cell_type": "code",
   "execution_count": null,
   "id": "32be709a",
   "metadata": {},
   "outputs": [],
   "source": [
    "# 1867. Orders With Maximum Quantity Above Average\n",
    "\n",
    "with CTE as (\n",
    "select avg(quantity) as av from OrdersDetails \n",
    "group by order_id)\n",
    "\n",
    "select order_id  from OrdersDetails\n",
    "group by order_id\n",
    "having max(quantity) > (select max(av) from CTE)\n",
    "\n",
    "# Tip: You can't use max(avg). You should use them separately."
   ]
  },
  {
   "cell_type": "code",
   "execution_count": null,
   "id": "b93f179b",
   "metadata": {},
   "outputs": [],
   "source": [
    "# 550. Game Play Analysis IV\n",
    "\n",
    "With CTE as (\n",
    "    select player_id, min(event_date) as mn from activity\n",
    "    group by player_id\n",
    ")\n",
    "select round(count(distinct A1.player_id) / (select count(distinct player_id) from Activity),2) as fraction from Activity A1\n",
    "Inner join CTE C on datediff(A1.event_date, C.mn) = 1 and A1.player_id = C.player_id\n",
    "\n",
    "# Tip: Datediff(x,y) is x - y not y - x"
   ]
  },
  {
   "cell_type": "code",
   "execution_count": null,
   "id": "639cf714",
   "metadata": {},
   "outputs": [],
   "source": [
    "# 262. Trips and Users\n",
    "\n",
    "select request_at as Day, round((sum(status = 'cancelled_by_driver') + sum(status = 'cancelled_by_client')) / count(distinct id),2) as 'Cancellation Rate'\n",
    "from trips t\n",
    "inner join users u1 on t.client_id = u1.users_id\n",
    "inner join users u2 on t.driver_id = u2.users_id\n",
    "where u1.banned = 'No' and u2.banned = 'No' and request_at between \"2013-10-01\" and \"2013-10-03\"\n",
    "group by request_at\n",
    "\n",
    "# Tip: as Cancellation Rate does not work because there is a space. You should use \"Cancellation Rate\" instead."
   ]
  },
  {
   "cell_type": "code",
   "execution_count": null,
   "id": "91248bd8",
   "metadata": {},
   "outputs": [],
   "source": []
  }
 ],
 "metadata": {
  "kernelspec": {
   "display_name": "Python 3 (ipykernel)",
   "language": "python",
   "name": "python3"
  },
  "language_info": {
   "codemirror_mode": {
    "name": "ipython",
    "version": 3
   },
   "file_extension": ".py",
   "mimetype": "text/x-python",
   "name": "python",
   "nbconvert_exporter": "python",
   "pygments_lexer": "ipython3",
   "version": "3.9.12"
  }
 },
 "nbformat": 4,
 "nbformat_minor": 5
}
