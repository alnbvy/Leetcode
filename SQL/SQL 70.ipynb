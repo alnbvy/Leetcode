{
 "cells": [
  {
   "cell_type": "code",
   "execution_count": null,
   "id": "4740b7d0",
   "metadata": {},
   "outputs": [],
   "source": [
    "# 512. Game Play Analysis II\n",
    "\n",
    "with CTE as (\n",
    "    select player_id, min(event_date) as mn_date from Activity\n",
    "    group by player_id\n",
    ")\n",
    "\n",
    "select A.player_id, A.device_id from Activity A\n",
    "inner join CTE C on C.player_id = A.player_id\n",
    "where A.event_date = C.mn_date\n",
    "--------------------------------------------------------------------\n",
    "With CTE as(\n",
    "select player_id, \n",
    "    row_number() over(partition by player_id order by event_date) as RN, device_id from Activity)\n",
    "\n",
    "select player_id, device_id from CTE\n",
    "where RN = 1"
   ]
  },
  {
   "cell_type": "code",
   "execution_count": null,
   "id": "38837368",
   "metadata": {},
   "outputs": [],
   "source": [
    "# 534. Game Play Analysis III\n",
    "\n",
    "select player_id, event_date,\n",
    "    sum(games_played) over(partition by player_id order by event_date) as games_played_so_far from Activity\n",
    "    \n",
    "# Tip: The default window frame without the ORDER BY is the whole partition. \n",
    "# But when you use the ORDER BY, the default window frame \n",
    "# is RANGE BETWEEN UNBOUNDED PRECEDING AND CURRENT ROW."
   ]
  },
  {
   "cell_type": "code",
   "execution_count": null,
   "id": "e020f7db",
   "metadata": {},
   "outputs": [],
   "source": [
    "# 571. Find Median Given Frequency of Numbers\n",
    "\n",
    "select  avg(n.num) median\n",
    "from Numbers n\n",
    "where n.Frequency >= abs((select sum(Frequency) from Numbers where num<=n.num) -\n",
    "                         (select sum(Frequency) from Numbers where num>=n.num))"
   ]
  },
  {
   "cell_type": "code",
   "execution_count": null,
   "id": "89117927",
   "metadata": {},
   "outputs": [],
   "source": [
    "# 610. Triangle Judgement\n",
    "\n",
    "select x,y,z, \n",
    "    CASE\n",
    "        WHEN x+y>z and x+z>y and y+z>x Then 'Yes'\n",
    "        ELSE 'No'\n",
    "        END as triangle\n",
    "from Triangle"
   ]
  },
  {
   "cell_type": "code",
   "execution_count": null,
   "id": "ce8563c1",
   "metadata": {},
   "outputs": [],
   "source": [
    "# 613. Shortest Distance in a Line\n",
    "\n",
    "select min(abs(P1.x - P2.x)) as shortest from Point P1\n",
    "inner join Point P2 on P1.x != P2.x"
   ]
  },
  {
   "cell_type": "code",
   "execution_count": null,
   "id": "a1b5fe52",
   "metadata": {},
   "outputs": [],
   "source": [
    "# 1068. Product Sales Analysis I\n",
    "\n",
    "select P.product_name, S.year, S.price  from Sales S\n",
    "inner join Product P on P.product_id = S.product_id"
   ]
  },
  {
   "cell_type": "code",
   "execution_count": null,
   "id": "6bbc2a98",
   "metadata": {},
   "outputs": [],
   "source": [
    "# 1068. Product Sales Analysis I\n",
    "\n",
    "select P.project_id, round(AVG(E.experience_years),2) as average_years from Project P\n",
    "inner join Employee E on P.employee_id = E.employee_id\n",
    "group by P.project_id"
   ]
  },
  {
   "cell_type": "code",
   "execution_count": null,
   "id": "87f47857",
   "metadata": {},
   "outputs": [],
   "source": [
    "# 1076. Project Employees II\n",
    "\n",
    "with CTE as (\n",
    "select project_id, count(employee_id) as cnt from Project\n",
    "group by project_id\n",
    ")\n",
    "select project_id from CTE\n",
    "where cnt = (select max(cnt) from CTE)"
   ]
  },
  {
   "cell_type": "code",
   "execution_count": null,
   "id": "eca4521e",
   "metadata": {},
   "outputs": [],
   "source": [
    "# 1076. Project Employees II\n",
    "\n",
    "with CTE as (\n",
    "select P.project_id, max(E.experience_years) as mxe from Project P\n",
    "inner join Employee E on P.employee_id = E.employee_id\n",
    "group by P.project_id)\n",
    "\n",
    "select P.project_id, P.employee_id from CTE\n",
    "inner join Project P on P.project_id = CTE.project_id\n",
    "inner join Employee E on E.employee_id = P.employee_id\n",
    "where E.experience_years = CTE.mxe\n",
    "\n",
    "--------------------------------------------------------------------------------\n",
    "\n",
    "select P.project_id, P.employee_id from Project P\n",
    "inner join Employee E on E.employee_id = P.employee_id\n",
    "where (P.project_id, E.experience_years) in (select P.project_id, max(E.experience_years) from Project P\n",
    "inner join Employee E on E.employee_id = P.employee_id\n",
    "group by P.project_id)"
   ]
  },
  {
   "cell_type": "code",
   "execution_count": null,
   "id": "c1c49ef5",
   "metadata": {},
   "outputs": [],
   "source": [
    "# 1082. Sales Analysis I\n",
    "\n",
    "select seller_id from Sales\n",
    "group by seller_id\n",
    "having sum(price) = (select max(sm) from (\n",
    "    select sum(price) as sm from Sales\n",
    "    group by seller_id\n",
    ") tmp)"
   ]
  },
  {
   "cell_type": "code",
   "execution_count": null,
   "id": "e7a80b8a",
   "metadata": {},
   "outputs": [],
   "source": [
    "# 1083. Sales Analysis II\n",
    "\n",
    "select S.buyer_id from Sales S\n",
    "inner join Product P on S.product_id = P.product_id\n",
    "group by S.buyer_id\n",
    "having sum(P.product_name = 'S8') > 0 and sum(P.product_name = 'iPhone') = 0\n",
    "\n",
    "--------------------------------------------------------------------------------\n",
    "\n",
    "select S.buyer_id from Sales S\n",
    "inner join Product P on S.product_id = P.product_id\n",
    "group by S.buyer_id\n",
    "having sum(Case when P.product_name = 'S8' then 1 else 0 end) > 0 and sum(Case when P.product_name = 'iPhone' then 1 else 0 end) = 0"
   ]
  },
  {
   "cell_type": "code",
   "execution_count": null,
   "id": "5907ac91",
   "metadata": {},
   "outputs": [],
   "source": [
    "# 1113. Reported Posts\n",
    "\n",
    "select extra as report_reason, count(distinct post_id) as report_count from Actions\n",
    "where action_date = '2019-07-04' and action = 'report'\n",
    "group by extra\n",
    "\n",
    "\n",
    "Tips: \n",
    "# 1) group by 1: It means to group by the first column of your result set regardless of what it's called. \n",
    "# You can do the same with ORDER BY.\n"
   ]
  },
  {
   "cell_type": "code",
   "execution_count": null,
   "id": "b3d84e5c",
   "metadata": {},
   "outputs": [],
   "source": [
    "# 1322. Ads Performance\n",
    "\n",
    "With CTE as (\n",
    "select ad_id, sum(action = 'Clicked') as Clicked, sum(action = 'Viewed') as Viewed\n",
    "from Ads\n",
    "group by ad_id)\n",
    "\n",
    "select ad_id, round(Ifnull(Clicked / (Clicked + Viewed)* 100.0,0),2) as ctr  from CTE\n",
    "order by ctr desc, ad_id asc\n",
    "\n",
    "--------------------------------------------------------------------------------\n",
    "\n",
    "select ad_id, round(ifnull(sum(action = 'Clicked') / sum(action = 'Viewed' or action = 'Clicked') * 100.0,0),2) as ctr\n",
    "from Ads\n",
    "group by ad_id\n",
    "order by ctr desc, ad_id asc"
   ]
  },
  {
   "cell_type": "code",
   "execution_count": null,
   "id": "8dcca553",
   "metadata": {},
   "outputs": [],
   "source": [
    "# 1350. Students With Invalid Departments\n",
    "\n",
    "select id, name from Students\n",
    "where department_id not in (select distinct id from Departments)"
   ]
  },
  {
   "cell_type": "code",
   "execution_count": null,
   "id": "16414ce2",
   "metadata": {},
   "outputs": [],
   "source": [
    "# 1511. Customer Order Frequency\n",
    "\n",
    "select O.customer_id, C.name from Orders O\n",
    "inner join Product P on P.product_id = O.product_id\n",
    "inner join Customers C on C.customer_id = O.customer_id\n",
    "group by O.customer_id\n",
    "having \n",
    "sum(Case When month(O.order_date) = 6 then O.quantity * P.price else 0 end) >= 100 \n",
    "and \n",
    "sum(Case When month(O.order_date) = 7 then O.quantity * P.price else 0 end) >= 100 \n",
    "\n",
    "# Tips: you can use sum(something) > 5 inside having clause\n",
    "# 2) learn sum(case ... end) as alias "
   ]
  }
 ],
 "metadata": {
  "kernelspec": {
   "display_name": "Python 3 (ipykernel)",
   "language": "python",
   "name": "python3"
  },
  "language_info": {
   "codemirror_mode": {
    "name": "ipython",
    "version": 3
   },
   "file_extension": ".py",
   "mimetype": "text/x-python",
   "name": "python",
   "nbconvert_exporter": "python",
   "pygments_lexer": "ipython3",
   "version": "3.9.12"
  }
 },
 "nbformat": 4,
 "nbformat_minor": 5
}
