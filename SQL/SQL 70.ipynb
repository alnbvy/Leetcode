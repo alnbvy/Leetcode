{
 "cells": [
  {
   "cell_type": "code",
   "execution_count": null,
   "id": "4740b7d0",
   "metadata": {},
   "outputs": [],
   "source": [
    "# 512. Game Play Analysis II\n",
    "\n",
    "with CTE as (\n",
    "    select player_id, min(event_date) as mn_date from Activity\n",
    "    group by player_id\n",
    ")\n",
    "\n",
    "select A.player_id, A.device_id from Activity A\n",
    "inner join CTE C on C.player_id = A.player_id\n",
    "where A.event_date = C.mn_date\n",
    "--------------------------------------------------------------------\n",
    "With CTE as(\n",
    "select player_id, \n",
    "    row_number() over(partition by player_id order by event_date) as RN, device_id from Activity)\n",
    "\n",
    "select player_id, device_id from CTE\n",
    "where RN = 1"
   ]
  },
  {
   "cell_type": "code",
   "execution_count": null,
   "id": "38837368",
   "metadata": {},
   "outputs": [],
   "source": [
    "# 534. Game Play Analysis III\n",
    "\n",
    "select player_id, event_date,\n",
    "    sum(games_played) over(partition by player_id order by event_date) as games_played_so_far from Activity\n",
    "    \n",
    "# Tip: The default window frame without the ORDER BY is the whole partition. \n",
    "# But when you use the ORDER BY, the default window frame \n",
    "# is RANGE BETWEEN UNBOUNDED PRECEDING AND CURRENT ROW."
   ]
  },
  {
   "cell_type": "code",
   "execution_count": null,
   "id": "e020f7db",
   "metadata": {},
   "outputs": [],
   "source": [
    "# 571. Find Median Given Frequency of Numbers\n",
    "\n",
    "select  avg(n.num) median\n",
    "from Numbers n\n",
    "where n.Frequency >= abs((select sum(Frequency) from Numbers where num<=n.num) -\n",
    "                         (select sum(Frequency) from Numbers where num>=n.num))"
   ]
  },
  {
   "cell_type": "code",
   "execution_count": null,
   "id": "89117927",
   "metadata": {},
   "outputs": [],
   "source": [
    "# 610. Triangle Judgement\n",
    "\n",
    "select x,y,z, \n",
    "    CASE\n",
    "        WHEN x+y>z and x+z>y and y+z>x Then 'Yes'\n",
    "        ELSE 'No'\n",
    "        END as triangle\n",
    "from Triangle"
   ]
  },
  {
   "cell_type": "code",
   "execution_count": null,
   "id": "ce8563c1",
   "metadata": {},
   "outputs": [],
   "source": [
    "# 613. Shortest Distance in a Line\n",
    "\n",
    "select min(abs(P1.x - P2.x)) as shortest from Point P1\n",
    "inner join Point P2 on P1.x != P2.x"
   ]
  },
  {
   "cell_type": "code",
   "execution_count": null,
   "id": "a1b5fe52",
   "metadata": {},
   "outputs": [],
   "source": [
    "# 1068. Product Sales Analysis I\n",
    "\n",
    "select P.product_name, S.year, S.price  from Sales S\n",
    "inner join Product P on P.product_id = S.product_id"
   ]
  },
  {
   "cell_type": "code",
   "execution_count": null,
   "id": "6bbc2a98",
   "metadata": {},
   "outputs": [],
   "source": [
    "# 1068. Product Sales Analysis I\n",
    "\n",
    "select P.project_id, round(AVG(E.experience_years),2) as average_years from Project P\n",
    "inner join Employee E on P.employee_id = E.employee_id\n",
    "group by P.project_id"
   ]
  }
 ],
 "metadata": {
  "kernelspec": {
   "display_name": "Python 3 (ipykernel)",
   "language": "python",
   "name": "python3"
  },
  "language_info": {
   "codemirror_mode": {
    "name": "ipython",
    "version": 3
   },
   "file_extension": ".py",
   "mimetype": "text/x-python",
   "name": "python",
   "nbconvert_exporter": "python",
   "pygments_lexer": "ipython3",
   "version": "3.9.12"
  }
 },
 "nbformat": 4,
 "nbformat_minor": 5
}
