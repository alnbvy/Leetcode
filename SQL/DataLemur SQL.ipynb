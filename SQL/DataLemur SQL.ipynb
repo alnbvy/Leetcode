{
 "cells": [
  {
   "cell_type": "markdown",
   "id": "b4dbef2e",
   "metadata": {},
   "source": [
    "# I will use MySQL format"
   ]
  },
  {
   "cell_type": "code",
   "execution_count": null,
   "id": "472f158c",
   "metadata": {},
   "outputs": [],
   "source": [
    "# Q1\n",
    "# App Click-through Rate (CTR)\n",
    "SELECT app_id, sum(event_type = 'click') * 100.0 / sum(event_type = 'impression') asa ctr FROM events\n",
    "where year(timestamp) = 2019\n",
    "group by app_id;\n",
    "# Tips: 1) you could also use sum (IF(event_type = 'click',1,0))"
   ]
  },
  {
   "cell_type": "code",
   "execution_count": null,
   "id": "765c030e",
   "metadata": {},
   "outputs": [],
   "source": [
    "# Q2\n",
    "select u.city, count(Distinct order_id) as cnt from trades t\n",
    "inner join users u on u.user_id = t.user_id\n",
    "where status = 'complete'\n",
    "group by u.city\n",
    "order by cnt DESC\n",
    "limit 3"
   ]
  },
  {
   "cell_type": "code",
   "execution_count": null,
   "id": "5c2a6d9f",
   "metadata": {},
   "outputs": [],
   "source": []
  }
 ],
 "metadata": {
  "kernelspec": {
   "display_name": "Python 3 (ipykernel)",
   "language": "python",
   "name": "python3"
  },
  "language_info": {
   "codemirror_mode": {
    "name": "ipython",
    "version": 3
   },
   "file_extension": ".py",
   "mimetype": "text/x-python",
   "name": "python",
   "nbconvert_exporter": "python",
   "pygments_lexer": "ipython3",
   "version": "3.9.12"
  }
 },
 "nbformat": 4,
 "nbformat_minor": 5
}
