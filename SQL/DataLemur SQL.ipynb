{
 "cells": [
  {
   "cell_type": "markdown",
   "id": "b4dbef2e",
   "metadata": {},
   "source": [
    "# I will use MySQL format"
   ]
  },
  {
   "cell_type": "code",
   "execution_count": null,
   "id": "472f158c",
   "metadata": {},
   "outputs": [],
   "source": [
    "# Q1\n",
    "# App Click-through Rate (CTR)\n",
    "SELECT app_id, sum(event_type = 'click') * 100.0 / sum(event_type = 'impression') asa ctr FROM events\n",
    "where year(timestamp) = 2019\n",
    "group by app_id;\n",
    "# Tips: 1) you could also use sum (IF(event_type = 'click',1,0))"
   ]
  },
  {
   "cell_type": "code",
   "execution_count": null,
   "id": "17f70ba0",
   "metadata": {},
   "outputs": [],
   "source": [
    "# Q2\n",
    "select u.city, count(Distinct order_id) as cnt from trades t\n",
    "inner join users u on u.user_id = t.user_id\n",
    "where status = 'complete'\n",
    "group by u.city\n",
    "order by cnt DESC\n",
    "limit 3"
   ]
  },
  {
   "cell_type": "code",
   "execution_count": null,
   "id": "5e55d02b",
   "metadata": {},
   "outputs": [],
   "source": [
    "# Q3\n",
    "select sum(device_type = 'tablet' or device_type = 'phone') as mobile, sum(device_type = 'laptop') from viewership\n",
    "-------------\n",
    "select sum(if(device_type = 'tablet' or device_type = 'phone',1,0)) as mobile, \n",
    "sum(if(device_type = 'laptop',1,0)) from viewership\n"
   ]
  },
  {
   "cell_type": "code",
   "execution_count": null,
   "id": "347212e5",
   "metadata": {},
   "outputs": [],
   "source": [
    "# Q4\n",
    "select product_id, trans_date, sum(spend) over (partition by product_id order by trans_date\n",
    "                                               RANGE BETWEEN UNBOUNDED PRECEDING AND CURRENT ROW)\n",
    "from total_trans\n",
    "order by product_id, trans_date ASC\n",
    "\n",
    "# The default window frame without the ORDER BY is the whole partition. \n",
    "# But when you use the ORDER BY, the default window frame is RANGE BETWEEN UNBOUNDED PRECEDING AND CURRENT ROW.\n",
    "\n",
    "# Thus, \"RANGE BETWEEN UNBOUNDED PRECEDING AND CURRENT ROW\" was unnecessary"
   ]
  },
  {
   "cell_type": "code",
   "execution_count": null,
   "id": "5d6800f8",
   "metadata": {},
   "outputs": [],
   "source": [
    "# Q5\n",
    "select user_id, count(product_id) as cnt, sum(spend) as sm from user_transactions\n",
    "group by user_id\n",
    "having sum(spend) > 1000\n",
    "order by cnt DESC\n",
    "LIMIT 10"
   ]
  },
  {
   "cell_type": "code",
   "execution_count": null,
   "id": "552ed65d",
   "metadata": {},
   "outputs": [],
   "source": [
    "# Q6\n",
    "WITH CTE as (\n",
    "    select user_id, count(tweet_id) as cnt_tw from tweets\n",
    "    where year(tweet_date) = 2020\n",
    "    group by user_id)\n",
    "select count(user_id), cnt_tw from CTE\n",
    "group by cnt_tw\n",
    "order by cnt_tw ASC"
   ]
  },
  {
   "cell_type": "code",
   "execution_count": null,
   "id": "b99b7736",
   "metadata": {},
   "outputs": [],
   "source": [
    "# Q7\n",
    "select count(distinct user_id) from (\n",
    "        select user_id,\n",
    "        rank() over (partition by user_id, product_id order by datetime) as cnt from purchases) table\n",
    "where cnt >= 2\n",
    "\n",
    "# Tip: rank and dense_rank will assign the same number if the value of order by paarameter is equal. For instnace:\n",
    "# for equal user_id and product_id if two rows had the same datetime will get the same rank regardless of other columns"
   ]
  },
  {
   "cell_type": "code",
   "execution_count": null,
   "id": "b180f7b4",
   "metadata": {},
   "outputs": [],
   "source": [
    "# Q8\n",
    "select count(distinct cmp) from (select j1.job_id, j2.job_id, j1.company_id as cmp from job_listings j1\n",
    "inner join job_listings j2 on j1.company_id = j2.company_id\n",
    "where j1.title = j2.title and j1.description = j2.description and j1.job_id != j2.job_id) t\n",
    "\n",
    "-------------------\n",
    "with CTE as (select company_id, row_number() over(partition by company_id, title, description order by post_date) as RN \n",
    "from job_listings)\n",
    "\n",
    "select count(distinct company_id) from CTE \n",
    "where RN >=2\n",
    "\n",
    "\n",
    "# Don't use \"table\" as alias"
   ]
  }
 ],
 "metadata": {
  "kernelspec": {
   "display_name": "Python 3 (ipykernel)",
   "language": "python",
   "name": "python3"
  },
  "language_info": {
   "codemirror_mode": {
    "name": "ipython",
    "version": 3
   },
   "file_extension": ".py",
   "mimetype": "text/x-python",
   "name": "python",
   "nbconvert_exporter": "python",
   "pygments_lexer": "ipython3",
   "version": "3.9.12"
  }
 },
 "nbformat": 4,
 "nbformat_minor": 5
}
