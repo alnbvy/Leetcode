{
 "cells": [
  {
   "cell_type": "code",
   "execution_count": null,
   "id": "25f004b3",
   "metadata": {},
   "outputs": [],
   "source": [
    "# 509. Fibonacci Number\n",
    "\n",
    "----------------------------------------------\n",
    "# Approach 1: Iterative Bottom-Up Approach\n",
    "class Solution(object):\n",
    "    def fib(self, n):\n",
    "        \"\"\"\n",
    "        :type n: int\n",
    "        :rtype: int\n",
    "        \"\"\"\n",
    "        a = 0\n",
    "        b = 1\n",
    "        c = a + b\n",
    "        if (n == 0):\n",
    "            return a\n",
    "        elif (n == 1):\n",
    "            return b\n",
    "        else: \n",
    "            for i in range(1,n):\n",
    "                c = a + b\n",
    "                a = b\n",
    "                b = c\n",
    "            return c\n",
    "----------------------------------------------\n",
    "# Approach 2: Recursion\n",
    "class Solution(object):\n",
    "    def fib(self, n):\n",
    "        \"\"\"\n",
    "        :type n: int\n",
    "        :rtype: int\n",
    "        \"\"\"\n",
    "        if (n <= 1):\n",
    "            return n\n",
    "        else:\n",
    "            return self.fib(n-1) + self.fib(n-2)\n",
    "----------------------------------------------\n",
    "# Approach 3: Bottom-Up Approach using Tabulation\n",
    "class Solution(object):\n",
    "    def fib(self, n):\n",
    "        \"\"\"\n",
    "        :type n: int\n",
    "        :rtype: int\n",
    "        \"\"\"\n",
    "        if (n <= 1):\n",
    "            return n\n",
    "        \n",
    "        lst = [0,1]\n",
    "        for i in range(1,n):\n",
    "            lst.append(lst[i] + lst[i-1])\n",
    "        return lst[n]"
   ]
  },
  {
   "cell_type": "code",
   "execution_count": null,
   "id": "dbc29684",
   "metadata": {},
   "outputs": [],
   "source": []
  },
  {
   "cell_type": "code",
   "execution_count": null,
   "id": "22ef0021",
   "metadata": {},
   "outputs": [],
   "source": []
  },
  {
   "cell_type": "code",
   "execution_count": null,
   "id": "14c02762",
   "metadata": {},
   "outputs": [],
   "source": []
  }
 ],
 "metadata": {
  "kernelspec": {
   "display_name": "Python 3 (ipykernel)",
   "language": "python",
   "name": "python3"
  },
  "language_info": {
   "codemirror_mode": {
    "name": "ipython",
    "version": 3
   },
   "file_extension": ".py",
   "mimetype": "text/x-python",
   "name": "python",
   "nbconvert_exporter": "python",
   "pygments_lexer": "ipython3",
   "version": "3.9.12"
  }
 },
 "nbformat": 4,
 "nbformat_minor": 5
}
