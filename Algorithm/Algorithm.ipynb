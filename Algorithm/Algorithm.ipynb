{
 "cells": [
  {
   "cell_type": "code",
   "execution_count": null,
   "id": "2072bc66",
   "metadata": {},
   "outputs": [],
   "source": [
    "# 704. Binary Search\n",
    "\n",
    "class Solution(object):\n",
    "    def search(self, nums, target):\n",
    "        \"\"\"\n",
    "        :type nums: List[int]\n",
    "        :type target: int\n",
    "        :rtype: int\n",
    "        \"\"\"\n",
    "        if target in nums:\n",
    "            return nums.index(target)\n",
    "        else:\n",
    "            return -1\n",
    "---------------------------------------\n",
    "class Solution(object):\n",
    "    def search(self, nums, target):\n",
    "        \"\"\"\n",
    "        :type nums: List[int]\n",
    "        :type target: int\n",
    "        :rtype: int\n",
    "        \"\"\"\n",
    "        start = 0\n",
    "        end = len(nums)\n",
    "        while (end > start):\n",
    "            if (target >= nums[(end+start) // 2]):\n",
    "                start = (end+start) // 2 + 1\n",
    "            else:\n",
    "                end = (end+start) // 2\n",
    "        if nums[start - 1] == target:\n",
    "            return start - 1\n",
    "        else:\n",
    "            return -1\n",
    "---------------------------------------\n",
    "class Solution(object):\n",
    "    def search(self, nums, target):\n",
    "        \"\"\"\n",
    "        :type nums: List[int]\n",
    "        :type target: int\n",
    "        :rtype: int\n",
    "        \"\"\"\n",
    "        start = 0\n",
    "        end = len(nums) - 1\n",
    "        while (end >= start):\n",
    "            if (target == nums[(end+start) // 2]):\n",
    "                return (end+start) // 2\n",
    "            elif (target > nums[(end+start) // 2]):\n",
    "                start = (end+start) // 2 + 1\n",
    "            else:\n",
    "                end = (end+start) // 2 - 1\n",
    "        return -1\n"
   ]
  }
 ],
 "metadata": {
  "kernelspec": {
   "display_name": "Python 3 (ipykernel)",
   "language": "python",
   "name": "python3"
  },
  "language_info": {
   "codemirror_mode": {
    "name": "ipython",
    "version": 3
   },
   "file_extension": ".py",
   "mimetype": "text/x-python",
   "name": "python",
   "nbconvert_exporter": "python",
   "pygments_lexer": "ipython3",
   "version": "3.9.12"
  }
 },
 "nbformat": 4,
 "nbformat_minor": 5
}
