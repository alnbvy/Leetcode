{
 "cells": [
  {
   "cell_type": "code",
   "execution_count": null,
   "id": "7e5ec6ef",
   "metadata": {},
   "outputs": [],
   "source": [
    "# 202. Happy Number\n",
    "\n",
    "class Solution(object):\n",
    "    def digits(self,n):\n",
    "        lst = []\n",
    "        while n > 0:\n",
    "            lst.append(n%10)\n",
    "            n = n // 10\n",
    "        return sum([i**2 for i in lst])\n",
    "    def isHappy(self, n):\n",
    "        \"\"\"\n",
    "        :type n: int\n",
    "        :rtype: bool\n",
    "        \"\"\"\n",
    "        st = set()\n",
    "        while n!=1 and n not in st:\n",
    "            st.add(n)\n",
    "            n = self.digits(n)\n",
    "        return n == 1\n",
    "# Tips: 1) n, digit = divmod(n, 10)"
   ]
  }
 ],
 "metadata": {
  "kernelspec": {
   "display_name": "Python 3 (ipykernel)",
   "language": "python",
   "name": "python3"
  },
  "language_info": {
   "codemirror_mode": {
    "name": "ipython",
    "version": 3
   },
   "file_extension": ".py",
   "mimetype": "text/x-python",
   "name": "python",
   "nbconvert_exporter": "python",
   "pygments_lexer": "ipython3",
   "version": "3.9.12"
  }
 },
 "nbformat": 4,
 "nbformat_minor": 5
}
