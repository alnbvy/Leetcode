{
 "cells": [
  {
   "cell_type": "code",
   "execution_count": null,
   "id": "606f9c8e",
   "metadata": {},
   "outputs": [],
   "source": [
    "# 1480. Running Sum of 1d Array\n",
    "\n",
    "class Solution(object):\n",
    "    def runningSum(self, nums):\n",
    "        \"\"\"\n",
    "        :type nums: List[int]\n",
    "        :rtype: List[int]\n",
    "        \"\"\"\n",
    "        return [sum(nums[:i+1]) for i in range(len(nums))]"
   ]
  },
  {
   "cell_type": "code",
   "execution_count": null,
   "id": "9bd53092",
   "metadata": {},
   "outputs": [],
   "source": [
    "# 724. Find Pivot Index\n",
    "\n",
    "class Solution(object):\n",
    "    def pivotIndex(self, nums):\n",
    "        \"\"\"\n",
    "        :type nums: List[int]\n",
    "        :rtype: int\n",
    "        \"\"\"\n",
    "        if (sum(nums[1:]) == 0):\n",
    "            return 0\n",
    "        for i in range(1,len(nums)-1):\n",
    "            if (sum(nums[:i]) == sum(nums[i+1:])):\n",
    "                return i\n",
    "        if (sum(nums[:-1]) == 0):\n",
    "            return len(nums) - 1\n",
    "        return -1\n",
    "------------------------------------------------------------------\n",
    "class Solution(object):\n",
    "    def pivotIndex(self, nums):\n",
    "        \"\"\"\n",
    "        :type nums: List[int]\n",
    "        :rtype: int\n",
    "        \"\"\"\n",
    "        leftsum = 0\n",
    "        S = sum(nums)\n",
    "\n",
    "        for i,x in enumerate(nums):\n",
    "            if (leftsum == S - x):\n",
    "                return i\n",
    "            leftsum += x\n",
    "            S -= x\n",
    "        return -1"
   ]
  },
  {
   "cell_type": "code",
   "execution_count": null,
   "id": "55ca0120",
   "metadata": {},
   "outputs": [],
   "source": [
    "# 205. Isomorphic Strings\n",
    "\n",
    "class Solution(object):\n",
    "    def isIsomorphic(self, s, t):\n",
    "        \"\"\"\n",
    "        :type s: str\n",
    "        :type t: str\n",
    "        :rtype: bool\n",
    "        \"\"\"\n",
    "        return len(set(s)) == len(set(t)) == len(set(zip(s,t)))\n",
    "# Tip: 1) learn the zip function"
   ]
  },
  {
   "cell_type": "code",
   "execution_count": null,
   "id": "26002935",
   "metadata": {},
   "outputs": [],
   "source": [
    "# 392. Is Subsequence\n",
    "\n",
    "# Approach 1: Divide and Conquer with Greedy\n",
    "class Solution(object):\n",
    "    def isSubsequence(self, s, t):\n",
    "        \"\"\"\n",
    "        :type s: str\n",
    "        :type t: str\n",
    "        :rtype: bool\n",
    "        \"\"\"\n",
    "        leftB, rightB = len(s), len(t)\n",
    "\n",
    "        def helper(left,right):\n",
    "            if left == leftB: \n",
    "                return True\n",
    "            if right == rightB:\n",
    "                return False\n",
    "            if s[left] == t[right]:\n",
    "                left += 1\n",
    "            right += 1\n",
    "\n",
    "            return helper(left,right)\n",
    "        return helper(0,0)\n",
    "------------------------------------------------------------------\n",
    "# Approach 2: Two-Pointers\n",
    "class Solution(object):\n",
    "    def isSubsequence(self, s, t):\n",
    "        \"\"\"\n",
    "        :type s: str\n",
    "        :type t: str\n",
    "        :rtype: bool\n",
    "        \"\"\"\n",
    "        leftB, rightB = len(s), len(t)\n",
    "\n",
    "        left, right = 0, 0\n",
    "        while left < leftB and right < rightB:\n",
    "            if s[left] == t[right]:\n",
    "                left += 1\n",
    "            right += 1\n",
    "        return leftB == left"
   ]
  },
  {
   "cell_type": "code",
   "execution_count": null,
   "id": "584941bb",
   "metadata": {},
   "outputs": [],
   "source": []
  },
  {
   "cell_type": "code",
   "execution_count": null,
   "id": "1aa7555e",
   "metadata": {},
   "outputs": [],
   "source": []
  },
  {
   "cell_type": "code",
   "execution_count": null,
   "id": "a775d1c0",
   "metadata": {},
   "outputs": [],
   "source": []
  }
 ],
 "metadata": {
  "kernelspec": {
   "display_name": "Python 3 (ipykernel)",
   "language": "python",
   "name": "python3"
  },
  "language_info": {
   "codemirror_mode": {
    "name": "ipython",
    "version": 3
   },
   "file_extension": ".py",
   "mimetype": "text/x-python",
   "name": "python",
   "nbconvert_exporter": "python",
   "pygments_lexer": "ipython3",
   "version": "3.9.12"
  }
 },
 "nbformat": 4,
 "nbformat_minor": 5
}
