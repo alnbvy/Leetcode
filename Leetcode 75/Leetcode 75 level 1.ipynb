{
 "cells": [
  {
   "cell_type": "code",
   "execution_count": null,
   "id": "606f9c8e",
   "metadata": {},
   "outputs": [],
   "source": [
    "# 1480. Running Sum of 1d Array\n",
    "\n",
    "class Solution(object):\n",
    "    def runningSum(self, nums):\n",
    "        \"\"\"\n",
    "        :type nums: List[int]\n",
    "        :rtype: List[int]\n",
    "        \"\"\"\n",
    "        return [sum(nums[:i+1]) for i in range(len(nums))]"
   ]
  },
  {
   "cell_type": "code",
   "execution_count": null,
   "id": "9bd53092",
   "metadata": {},
   "outputs": [],
   "source": [
    "# 724. Find Pivot Index\n",
    "\n",
    "class Solution(object):\n",
    "    def pivotIndex(self, nums):\n",
    "        \"\"\"\n",
    "        :type nums: List[int]\n",
    "        :rtype: int\n",
    "        \"\"\"\n",
    "        if (sum(nums[1:]) == 0):\n",
    "            return 0\n",
    "        for i in range(1,len(nums)-1):\n",
    "            if (sum(nums[:i]) == sum(nums[i+1:])):\n",
    "                return i\n",
    "        if (sum(nums[:-1]) == 0):\n",
    "            return len(nums) - 1\n",
    "        return -1\n",
    "------------------------------------------------------------------\n",
    "class Solution(object):\n",
    "    def pivotIndex(self, nums):\n",
    "        \"\"\"\n",
    "        :type nums: List[int]\n",
    "        :rtype: int\n",
    "        \"\"\"\n",
    "        leftsum = 0\n",
    "        S = sum(nums)\n",
    "\n",
    "        for i,x in enumerate(nums):\n",
    "            if (leftsum == S - x):\n",
    "                return i\n",
    "            leftsum += x\n",
    "            S -= x\n",
    "        return -1"
   ]
  },
  {
   "cell_type": "code",
   "execution_count": null,
   "id": "55ca0120",
   "metadata": {},
   "outputs": [],
   "source": [
    "class Solution(object):\n",
    "    def isIsomorphic(self, s, t):\n",
    "        \"\"\"\n",
    "        :type s: str\n",
    "        :type t: str\n",
    "        :rtype: bool\n",
    "        \"\"\"\n",
    "        return len(set(s)) == len(set(t)) == len(set(zip(s,t)))\n",
    "# Tip: 1) learn the zip function"
   ]
  },
  {
   "cell_type": "code",
   "execution_count": null,
   "id": "26002935",
   "metadata": {},
   "outputs": [],
   "source": []
  }
 ],
 "metadata": {
  "kernelspec": {
   "display_name": "Python 3 (ipykernel)",
   "language": "python",
   "name": "python3"
  },
  "language_info": {
   "codemirror_mode": {
    "name": "ipython",
    "version": 3
   },
   "file_extension": ".py",
   "mimetype": "text/x-python",
   "name": "python",
   "nbconvert_exporter": "python",
   "pygments_lexer": "ipython3",
   "version": "3.9.12"
  }
 },
 "nbformat": 4,
 "nbformat_minor": 5
}
